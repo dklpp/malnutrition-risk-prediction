{
 "cells": [
  {
   "cell_type": "code",
   "execution_count": 1,
   "id": "1e4b15fa",
   "metadata": {},
   "outputs": [],
   "source": [
    "import pandas as pd\n",
    "import numpy as np"
   ]
  },
  {
   "cell_type": "code",
   "execution_count": 3,
   "id": "aabeb4ca",
   "metadata": {
    "scrolled": true
   },
   "outputs": [
    {
     "name": "stderr",
     "output_type": "stream",
     "text": [
      "/var/folders/jd/3zpnmlfd2232jh4tlx7lspb40000gn/T/ipykernel_1526/267676398.py:1: DtypeWarning: Columns (39,40,46,47,311,344,830,831,903,904,905,906,908,937,938,939,940,941,1112) have mixed types. Specify dtype option on import or set low_memory=False.\n",
      "  df = pd.read_csv(\"../data/NHANES main dataset for AiP_June2024.csv\", sep=';')\n"
     ]
    }
   ],
   "source": [
    "df = pd.read_csv(\"../data/NHANES main dataset for AiP_June2024.csv\", sep=';')"
   ]
  },
  {
   "cell_type": "code",
   "execution_count": 19,
   "id": "48095b0b",
   "metadata": {},
   "outputs": [
    {
     "name": "stderr",
     "output_type": "stream",
     "text": [
      "/var/folders/jd/3zpnmlfd2232jh4tlx7lspb40000gn/T/ipykernel_1526/2275896770.py:1: DtypeWarning: Columns (311,344,937,938,939,940,941,1112) have mixed types. Specify dtype option on import or set low_memory=False.\n",
      "  df = pd.read_csv(\"../data/NHANES 8 yr updated dataset.csv\", sep=';')\n"
     ]
    },
    {
     "data": {
      "text/plain": [
       "(5434, 1392)"
      ]
     },
     "execution_count": 19,
     "metadata": {},
     "output_type": "execute_result"
    }
   ],
   "source": [
    "df = pd.read_csv(\"../data/NHANES 8 yr updated dataset.csv\", sep=';')\n",
    "df.shape"
   ]
  },
  {
   "cell_type": "code",
   "execution_count": 20,
   "id": "b68783d7",
   "metadata": {},
   "outputs": [
    {
     "data": {
      "text/html": [
       "<div>\n",
       "<style scoped>\n",
       "    .dataframe tbody tr th:only-of-type {\n",
       "        vertical-align: middle;\n",
       "    }\n",
       "\n",
       "    .dataframe tbody tr th {\n",
       "        vertical-align: top;\n",
       "    }\n",
       "\n",
       "    .dataframe thead th {\n",
       "        text-align: right;\n",
       "    }\n",
       "</style>\n",
       "<table border=\"1\" class=\"dataframe\">\n",
       "  <thead>\n",
       "    <tr style=\"text-align: right;\">\n",
       "      <th></th>\n",
       "      <th>SEQN</th>\n",
       "      <th>SDDSRVYR</th>\n",
       "      <th>RIDSTATR</th>\n",
       "      <th>RIAGENDR</th>\n",
       "      <th>RIDAGEYR</th>\n",
       "      <th>RIDAGEMN</th>\n",
       "      <th>RIDRETH1</th>\n",
       "      <th>RIDRETH3</th>\n",
       "      <th>RIDEXMON</th>\n",
       "      <th>RIDEXAGM</th>\n",
       "      <th>...</th>\n",
       "      <th>memory_prob</th>\n",
       "      <th>func_diffhigh</th>\n",
       "      <th>mmorb_q3</th>\n",
       "      <th>WTINT10YR</th>\n",
       "      <th>WTMEC10YR</th>\n",
       "      <th>diff_eating2</th>\n",
       "      <th>diff_mealprep2</th>\n",
       "      <th>no_hlth_insur</th>\n",
       "      <th>WTINT8YR</th>\n",
       "      <th>WTMEC8YR</th>\n",
       "    </tr>\n",
       "  </thead>\n",
       "  <tbody>\n",
       "    <tr>\n",
       "      <th>0</th>\n",
       "      <td>62174</td>\n",
       "      <td>7</td>\n",
       "      <td>2</td>\n",
       "      <td>1</td>\n",
       "      <td>80</td>\n",
       "      <td>NaN</td>\n",
       "      <td>3</td>\n",
       "      <td>3</td>\n",
       "      <td>2.0</td>\n",
       "      <td>NaN</td>\n",
       "      <td>...</td>\n",
       "      <td>0.0</td>\n",
       "      <td>1.0</td>\n",
       "      <td>1</td>\n",
       "      <td>4884,836947</td>\n",
       "      <td>5359,979459</td>\n",
       "      <td>0.0</td>\n",
       "      <td>0.0</td>\n",
       "      <td>0.0</td>\n",
       "      <td>6228,167108</td>\n",
       "      <td>6833,973811</td>\n",
       "    </tr>\n",
       "    <tr>\n",
       "      <th>1</th>\n",
       "      <td>62178</td>\n",
       "      <td>7</td>\n",
       "      <td>2</td>\n",
       "      <td>1</td>\n",
       "      <td>80</td>\n",
       "      <td>NaN</td>\n",
       "      <td>3</td>\n",
       "      <td>3</td>\n",
       "      <td>2.0</td>\n",
       "      <td>NaN</td>\n",
       "      <td>...</td>\n",
       "      <td>0.0</td>\n",
       "      <td>0.0</td>\n",
       "      <td>0</td>\n",
       "      <td>2410,030297</td>\n",
       "      <td>2586,250002</td>\n",
       "      <td>0.0</td>\n",
       "      <td>0.0</td>\n",
       "      <td>0.0</td>\n",
       "      <td>3072,788629</td>\n",
       "      <td>3297,468753</td>\n",
       "    </tr>\n",
       "    <tr>\n",
       "      <th>2</th>\n",
       "      <td>62182</td>\n",
       "      <td>7</td>\n",
       "      <td>1</td>\n",
       "      <td>1</td>\n",
       "      <td>75</td>\n",
       "      <td>NaN</td>\n",
       "      <td>3</td>\n",
       "      <td>3</td>\n",
       "      <td>NaN</td>\n",
       "      <td>NaN</td>\n",
       "      <td>...</td>\n",
       "      <td>0.0</td>\n",
       "      <td>0.0</td>\n",
       "      <td>0</td>\n",
       "      <td>12366,49161</td>\n",
       "      <td>0</td>\n",
       "      <td>0.0</td>\n",
       "      <td>0.0</td>\n",
       "      <td>0.0</td>\n",
       "      <td>15767,2768</td>\n",
       "      <td>0</td>\n",
       "    </tr>\n",
       "    <tr>\n",
       "      <th>3</th>\n",
       "      <td>62191</td>\n",
       "      <td>7</td>\n",
       "      <td>2</td>\n",
       "      <td>1</td>\n",
       "      <td>70</td>\n",
       "      <td>NaN</td>\n",
       "      <td>4</td>\n",
       "      <td>4</td>\n",
       "      <td>2.0</td>\n",
       "      <td>NaN</td>\n",
       "      <td>...</td>\n",
       "      <td>0.0</td>\n",
       "      <td>1.0</td>\n",
       "      <td>0</td>\n",
       "      <td>1698,386133</td>\n",
       "      <td>1785,415973</td>\n",
       "      <td>0.0</td>\n",
       "      <td>1.0</td>\n",
       "      <td>0.0</td>\n",
       "      <td>2165,442319</td>\n",
       "      <td>2276,405366</td>\n",
       "    </tr>\n",
       "    <tr>\n",
       "      <th>4</th>\n",
       "      <td>62215</td>\n",
       "      <td>7</td>\n",
       "      <td>2</td>\n",
       "      <td>2</td>\n",
       "      <td>65</td>\n",
       "      <td>NaN</td>\n",
       "      <td>3</td>\n",
       "      <td>3</td>\n",
       "      <td>2.0</td>\n",
       "      <td>NaN</td>\n",
       "      <td>...</td>\n",
       "      <td>1.0</td>\n",
       "      <td>1.0</td>\n",
       "      <td>0</td>\n",
       "      <td>25490,00696</td>\n",
       "      <td>25403,77557</td>\n",
       "      <td>0.0</td>\n",
       "      <td>0.0</td>\n",
       "      <td>0.0</td>\n",
       "      <td>32499,75888</td>\n",
       "      <td>32389,81385</td>\n",
       "    </tr>\n",
       "  </tbody>\n",
       "</table>\n",
       "<p>5 rows × 1392 columns</p>\n",
       "</div>"
      ],
      "text/plain": [
       "    SEQN  SDDSRVYR  RIDSTATR  RIAGENDR  RIDAGEYR  RIDAGEMN  RIDRETH1  \\\n",
       "0  62174         7         2         1        80       NaN         3   \n",
       "1  62178         7         2         1        80       NaN         3   \n",
       "2  62182         7         1         1        75       NaN         3   \n",
       "3  62191         7         2         1        70       NaN         4   \n",
       "4  62215         7         2         2        65       NaN         3   \n",
       "\n",
       "   RIDRETH3  RIDEXMON  RIDEXAGM  ...  memory_prob  func_diffhigh  mmorb_q3  \\\n",
       "0         3       2.0       NaN  ...          0.0            1.0         1   \n",
       "1         3       2.0       NaN  ...          0.0            0.0         0   \n",
       "2         3       NaN       NaN  ...          0.0            0.0         0   \n",
       "3         4       2.0       NaN  ...          0.0            1.0         0   \n",
       "4         3       2.0       NaN  ...          1.0            1.0         0   \n",
       "\n",
       "     WTINT10YR    WTMEC10YR  diff_eating2  diff_mealprep2  no_hlth_insur  \\\n",
       "0  4884,836947  5359,979459           0.0             0.0            0.0   \n",
       "1  2410,030297  2586,250002           0.0             0.0            0.0   \n",
       "2  12366,49161            0           0.0             0.0            0.0   \n",
       "3  1698,386133  1785,415973           0.0             1.0            0.0   \n",
       "4  25490,00696  25403,77557           0.0             0.0            0.0   \n",
       "\n",
       "      WTINT8YR     WTMEC8YR  \n",
       "0  6228,167108  6833,973811  \n",
       "1  3072,788629  3297,468753  \n",
       "2   15767,2768            0  \n",
       "3  2165,442319  2276,405366  \n",
       "4  32499,75888  32389,81385  \n",
       "\n",
       "[5 rows x 1392 columns]"
      ]
     },
     "execution_count": 20,
     "metadata": {},
     "output_type": "execute_result"
    }
   ],
   "source": [
    "df.head()"
   ]
  },
  {
   "cell_type": "code",
   "execution_count": 21,
   "id": "2ae0d719",
   "metadata": {},
   "outputs": [
    {
     "data": {
      "text/plain": [
       "(5434, 1392)"
      ]
     },
     "execution_count": 21,
     "metadata": {},
     "output_type": "execute_result"
    }
   ],
   "source": [
    "df.shape"
   ]
  },
  {
   "cell_type": "code",
   "execution_count": 22,
   "id": "10e87325",
   "metadata": {},
   "outputs": [
    {
     "data": {
      "text/plain": [
       "0"
      ]
     },
     "execution_count": 22,
     "metadata": {},
     "output_type": "execute_result"
    }
   ],
   "source": [
    "df.duplicated().sum()"
   ]
  },
  {
   "cell_type": "code",
   "execution_count": 11,
   "id": "dcfb598a",
   "metadata": {},
   "outputs": [
    {
     "data": {
      "text/plain": [
       "0"
      ]
     },
     "execution_count": 11,
     "metadata": {},
     "output_type": "execute_result"
    }
   ],
   "source": [
    "df.drop(columns='SDDSRVYR').duplicated().sum()"
   ]
  },
  {
   "cell_type": "code",
   "execution_count": 23,
   "id": "3c9b66e3",
   "metadata": {},
   "outputs": [
    {
     "data": {
      "text/plain": [
       "maln_risk         439\n",
       "maln_potential    318\n",
       "dtype: int64"
      ]
     },
     "execution_count": 23,
     "metadata": {},
     "output_type": "execute_result"
    }
   ],
   "source": [
    "df[['maln_risk', 'maln_potential']].isnull().sum() # n/a in target variables"
   ]
  },
  {
   "cell_type": "code",
   "execution_count": 24,
   "id": "963f3272",
   "metadata": {},
   "outputs": [
    {
     "data": {
      "text/plain": [
       "SEQN                0\n",
       "SDDSRVYR            0\n",
       "RIDSTATR            0\n",
       "RIAGENDR            0\n",
       "RIDAGEYR            0\n",
       "                 ... \n",
       "diff_eating2        5\n",
       "diff_mealprep2    377\n",
       "no_hlth_insur      14\n",
       "WTINT8YR            0\n",
       "WTMEC8YR            0\n",
       "Length: 1392, dtype: int64"
      ]
     },
     "execution_count": 24,
     "metadata": {},
     "output_type": "execute_result"
    }
   ],
   "source": [
    "df.isnull().sum()"
   ]
  },
  {
   "cell_type": "code",
   "execution_count": 25,
   "id": "3708c4cc",
   "metadata": {
    "scrolled": true
   },
   "outputs": [],
   "source": [
    "# Select feature from #INPUTS# in the excel file.\n",
    "# Some variables are for some reason abscent.\n",
    "\n",
    "df_red = df[['low_PA', 'hosp_pastyr', 'sig_hlth_decln', \n",
    "             'func_diffhigh', 'low_edu', 'age_cat', 'mmorb_q3', 'memory_prob', \n",
    "             'mobility_lim', 'imp_vision', 'imp_taste', 'imp_smell', \n",
    "             'hlth_insur', 'HEI2015_TOTAL_SCORE', 'poverty_level', 'marital_stat', 'dry_mouth', 'poor_oralhlth', \n",
    "             'oral_pain', 'stroke', 'cancer', 'abdom_pain', 'restrict_diet', 'poor_appetite', \n",
    "             'diff_shopping', 'diff_mealprep', 'diff_eating', 'FSDAD', 'vomit_past30', 'PROTDEN',\n",
    "             'maln_risk', 'maln_potential', 'RIAGENDR', 'RXDCOUNT', 'MHpro_pastyr', 'MH_Depressed',\n",
    "             'MH_lossofinterest', 'CRP_elev']]"
   ]
  },
  {
   "cell_type": "code",
   "execution_count": 26,
   "id": "d3b992a7",
   "metadata": {},
   "outputs": [
    {
     "data": {
      "text/plain": [
       "(5434, 38)"
      ]
     },
     "execution_count": 26,
     "metadata": {},
     "output_type": "execute_result"
    }
   ],
   "source": [
    "df_red.shape"
   ]
  },
  {
   "cell_type": "code",
   "execution_count": 27,
   "id": "78336414",
   "metadata": {},
   "outputs": [
    {
     "data": {
      "text/plain": [
       "0"
      ]
     },
     "execution_count": 27,
     "metadata": {},
     "output_type": "execute_result"
    }
   ],
   "source": [
    "df_red.duplicated().sum()"
   ]
  },
  {
   "cell_type": "markdown",
   "id": "03df207f",
   "metadata": {},
   "source": [
    "### KeyError: \"['riagendr', 'rxdcount', 'mhpro_pastyr', 'mh_depressed', 'mh_lossofinterest', 'CRP_Elev'] not in index\"\n"
   ]
  },
  {
   "cell_type": "code",
   "execution_count": 28,
   "id": "71302893",
   "metadata": {},
   "outputs": [
    {
     "data": {
      "text/plain": [
       "(5434, 38)"
      ]
     },
     "execution_count": 28,
     "metadata": {},
     "output_type": "execute_result"
    }
   ],
   "source": [
    "df_red.shape"
   ]
  },
  {
   "cell_type": "code",
   "execution_count": 29,
   "id": "9beda2bf",
   "metadata": {},
   "outputs": [
    {
     "data": {
      "text/plain": [
       "low_PA                   19\n",
       "hosp_pastyr               5\n",
       "sig_hlth_decln           10\n",
       "func_diffhigh             2\n",
       "low_edu                  21\n",
       "age_cat                   0\n",
       "mmorb_q3                  0\n",
       "memory_prob               4\n",
       "mobility_lim             29\n",
       "imp_vision             1253\n",
       "imp_taste              2885\n",
       "imp_smell              2887\n",
       "hlth_insur               14\n",
       "HEI2015_TOTAL_SCORE     865\n",
       "poverty_level           518\n",
       "marital_stat              8\n",
       "dry_mouth              2882\n",
       "poor_oralhlth           639\n",
       "oral_pain                 7\n",
       "stroke                   15\n",
       "cancer                    3\n",
       "abdom_pain             3937\n",
       "restrict_diet           860\n",
       "poor_appetite           759\n",
       "diff_shopping          1255\n",
       "diff_mealprep           377\n",
       "diff_eating               5\n",
       "FSDAD                   169\n",
       "vomit_past30            648\n",
       "PROTDEN                 865\n",
       "maln_risk               439\n",
       "maln_potential          318\n",
       "RIAGENDR                  0\n",
       "RXDCOUNT                  7\n",
       "MHpro_pastyr              3\n",
       "MH_Depressed            760\n",
       "MH_lossofinterest       758\n",
       "CRP_elev               2556\n",
       "dtype: int64"
      ]
     },
     "execution_count": 29,
     "metadata": {},
     "output_type": "execute_result"
    }
   ],
   "source": [
    "df_red.isnull().sum()"
   ]
  },
  {
   "cell_type": "code",
   "execution_count": 30,
   "id": "cc3a2c26",
   "metadata": {},
   "outputs": [
    {
     "data": {
      "text/html": [
       "<div>\n",
       "<style scoped>\n",
       "    .dataframe tbody tr th:only-of-type {\n",
       "        vertical-align: middle;\n",
       "    }\n",
       "\n",
       "    .dataframe tbody tr th {\n",
       "        vertical-align: top;\n",
       "    }\n",
       "\n",
       "    .dataframe thead th {\n",
       "        text-align: right;\n",
       "    }\n",
       "</style>\n",
       "<table border=\"1\" class=\"dataframe\">\n",
       "  <thead>\n",
       "    <tr style=\"text-align: right;\">\n",
       "      <th></th>\n",
       "      <th>low_PA</th>\n",
       "      <th>hosp_pastyr</th>\n",
       "      <th>sig_hlth_decln</th>\n",
       "      <th>func_diffhigh</th>\n",
       "      <th>low_edu</th>\n",
       "      <th>age_cat</th>\n",
       "      <th>mmorb_q3</th>\n",
       "      <th>memory_prob</th>\n",
       "      <th>mobility_lim</th>\n",
       "      <th>imp_vision</th>\n",
       "      <th>...</th>\n",
       "      <th>vomit_past30</th>\n",
       "      <th>PROTDEN</th>\n",
       "      <th>maln_risk</th>\n",
       "      <th>maln_potential</th>\n",
       "      <th>RIAGENDR</th>\n",
       "      <th>RXDCOUNT</th>\n",
       "      <th>MHpro_pastyr</th>\n",
       "      <th>MH_Depressed</th>\n",
       "      <th>MH_lossofinterest</th>\n",
       "      <th>CRP_elev</th>\n",
       "    </tr>\n",
       "  </thead>\n",
       "  <tbody>\n",
       "    <tr>\n",
       "      <th>0</th>\n",
       "      <td>1.0</td>\n",
       "      <td>0.0</td>\n",
       "      <td>1.0</td>\n",
       "      <td>1.0</td>\n",
       "      <td>0.0</td>\n",
       "      <td>4</td>\n",
       "      <td>1</td>\n",
       "      <td>0.0</td>\n",
       "      <td>1.0</td>\n",
       "      <td>NaN</td>\n",
       "      <td>...</td>\n",
       "      <td>0.0</td>\n",
       "      <td>2,120102527</td>\n",
       "      <td>0.0</td>\n",
       "      <td>0.0</td>\n",
       "      <td>1</td>\n",
       "      <td>5.0</td>\n",
       "      <td>0.0</td>\n",
       "      <td>0.0</td>\n",
       "      <td>0.0</td>\n",
       "      <td>NaN</td>\n",
       "    </tr>\n",
       "    <tr>\n",
       "      <th>1</th>\n",
       "      <td>1.0</td>\n",
       "      <td>0.0</td>\n",
       "      <td>0.0</td>\n",
       "      <td>0.0</td>\n",
       "      <td>1.0</td>\n",
       "      <td>4</td>\n",
       "      <td>0</td>\n",
       "      <td>0.0</td>\n",
       "      <td>1.0</td>\n",
       "      <td>NaN</td>\n",
       "      <td>...</td>\n",
       "      <td>0.0</td>\n",
       "      <td>2,262689991</td>\n",
       "      <td>0.0</td>\n",
       "      <td>0.0</td>\n",
       "      <td>1</td>\n",
       "      <td>5.0</td>\n",
       "      <td>0.0</td>\n",
       "      <td>1.0</td>\n",
       "      <td>0.0</td>\n",
       "      <td>NaN</td>\n",
       "    </tr>\n",
       "    <tr>\n",
       "      <th>2</th>\n",
       "      <td>1.0</td>\n",
       "      <td>0.0</td>\n",
       "      <td>0.0</td>\n",
       "      <td>0.0</td>\n",
       "      <td>0.0</td>\n",
       "      <td>3</td>\n",
       "      <td>0</td>\n",
       "      <td>0.0</td>\n",
       "      <td>1.0</td>\n",
       "      <td>NaN</td>\n",
       "      <td>...</td>\n",
       "      <td>NaN</td>\n",
       "      <td>NaN</td>\n",
       "      <td>NaN</td>\n",
       "      <td>NaN</td>\n",
       "      <td>1</td>\n",
       "      <td>2.0</td>\n",
       "      <td>0.0</td>\n",
       "      <td>NaN</td>\n",
       "      <td>NaN</td>\n",
       "      <td>NaN</td>\n",
       "    </tr>\n",
       "    <tr>\n",
       "      <th>3</th>\n",
       "      <td>0.0</td>\n",
       "      <td>0.0</td>\n",
       "      <td>0.0</td>\n",
       "      <td>1.0</td>\n",
       "      <td>1.0</td>\n",
       "      <td>2</td>\n",
       "      <td>0</td>\n",
       "      <td>0.0</td>\n",
       "      <td>4.0</td>\n",
       "      <td>NaN</td>\n",
       "      <td>...</td>\n",
       "      <td>0.0</td>\n",
       "      <td>2,035999523</td>\n",
       "      <td>NaN</td>\n",
       "      <td>NaN</td>\n",
       "      <td>1</td>\n",
       "      <td>3.0</td>\n",
       "      <td>0.0</td>\n",
       "      <td>0.0</td>\n",
       "      <td>0.0</td>\n",
       "      <td>NaN</td>\n",
       "    </tr>\n",
       "    <tr>\n",
       "      <th>4</th>\n",
       "      <td>1.0</td>\n",
       "      <td>0.0</td>\n",
       "      <td>0.0</td>\n",
       "      <td>1.0</td>\n",
       "      <td>0.0</td>\n",
       "      <td>1</td>\n",
       "      <td>0</td>\n",
       "      <td>1.0</td>\n",
       "      <td>1.0</td>\n",
       "      <td>NaN</td>\n",
       "      <td>...</td>\n",
       "      <td>0.0</td>\n",
       "      <td>1,788205453</td>\n",
       "      <td>0.0</td>\n",
       "      <td>0.0</td>\n",
       "      <td>2</td>\n",
       "      <td>2.0</td>\n",
       "      <td>0.0</td>\n",
       "      <td>0.0</td>\n",
       "      <td>1.0</td>\n",
       "      <td>NaN</td>\n",
       "    </tr>\n",
       "  </tbody>\n",
       "</table>\n",
       "<p>5 rows × 38 columns</p>\n",
       "</div>"
      ],
      "text/plain": [
       "   low_PA  hosp_pastyr  sig_hlth_decln  func_diffhigh  low_edu  age_cat  \\\n",
       "0     1.0          0.0             1.0            1.0      0.0        4   \n",
       "1     1.0          0.0             0.0            0.0      1.0        4   \n",
       "2     1.0          0.0             0.0            0.0      0.0        3   \n",
       "3     0.0          0.0             0.0            1.0      1.0        2   \n",
       "4     1.0          0.0             0.0            1.0      0.0        1   \n",
       "\n",
       "   mmorb_q3  memory_prob  mobility_lim  imp_vision  ...  vomit_past30  \\\n",
       "0         1          0.0           1.0         NaN  ...           0.0   \n",
       "1         0          0.0           1.0         NaN  ...           0.0   \n",
       "2         0          0.0           1.0         NaN  ...           NaN   \n",
       "3         0          0.0           4.0         NaN  ...           0.0   \n",
       "4         0          1.0           1.0         NaN  ...           0.0   \n",
       "\n",
       "       PROTDEN  maln_risk maln_potential  RIAGENDR  RXDCOUNT  MHpro_pastyr  \\\n",
       "0  2,120102527        0.0            0.0         1       5.0           0.0   \n",
       "1  2,262689991        0.0            0.0         1       5.0           0.0   \n",
       "2          NaN        NaN            NaN         1       2.0           0.0   \n",
       "3  2,035999523        NaN            NaN         1       3.0           0.0   \n",
       "4  1,788205453        0.0            0.0         2       2.0           0.0   \n",
       "\n",
       "   MH_Depressed  MH_lossofinterest  CRP_elev  \n",
       "0           0.0                0.0       NaN  \n",
       "1           1.0                0.0       NaN  \n",
       "2           NaN                NaN       NaN  \n",
       "3           0.0                0.0       NaN  \n",
       "4           0.0                1.0       NaN  \n",
       "\n",
       "[5 rows x 38 columns]"
      ]
     },
     "execution_count": 30,
     "metadata": {},
     "output_type": "execute_result"
    }
   ],
   "source": [
    "df_red.head()"
   ]
  },
  {
   "cell_type": "code",
   "execution_count": 31,
   "id": "fd924204",
   "metadata": {},
   "outputs": [
    {
     "data": {
      "text/plain": [
       "0.0    3721\n",
       "1.0     713\n",
       "2.0     561\n",
       "Name: maln_risk, dtype: int64"
      ]
     },
     "execution_count": 31,
     "metadata": {},
     "output_type": "execute_result"
    }
   ],
   "source": [
    "df_red['maln_risk'].value_counts()"
   ]
  },
  {
   "cell_type": "code",
   "execution_count": 32,
   "id": "93ea2600",
   "metadata": {},
   "outputs": [
    {
     "data": {
      "text/plain": [
       "0.0    3743\n",
       "1.0    1373\n",
       "Name: maln_potential, dtype: int64"
      ]
     },
     "execution_count": 32,
     "metadata": {},
     "output_type": "execute_result"
    }
   ],
   "source": [
    "df_red['maln_potential'].value_counts()"
   ]
  },
  {
   "cell_type": "code",
   "execution_count": 13,
   "id": "98a3cb5f",
   "metadata": {},
   "outputs": [
    {
     "data": {
      "text/plain": [
       "0.0    3465\n",
       "1.0     714\n",
       "Name: diff_shopping, dtype: int64"
      ]
     },
     "execution_count": 13,
     "metadata": {},
     "output_type": "execute_result"
    }
   ],
   "source": [
    "df_red['diff_shopping'].value_counts()"
   ]
  },
  {
   "cell_type": "code",
   "execution_count": 34,
   "id": "61796e04",
   "metadata": {},
   "outputs": [],
   "source": [
    "df_maln_risk = df_red.drop(columns=['maln_potential'])"
   ]
  },
  {
   "cell_type": "code",
   "execution_count": 35,
   "id": "04672e16",
   "metadata": {},
   "outputs": [],
   "source": [
    "df_maln_potential = df_red.drop(columns=['maln_risk'])"
   ]
  },
  {
   "cell_type": "code",
   "execution_count": 36,
   "id": "a4a50cb1",
   "metadata": {},
   "outputs": [
    {
     "name": "stdout",
     "output_type": "stream",
     "text": [
      "(4995, 37)\n",
      "(5116, 37)\n"
     ]
    }
   ],
   "source": [
    "# Drop rows where the target is N/A\n",
    "\n",
    "df_maln_risk = df_maln_risk.dropna(subset=['maln_risk'])\n",
    "df_maln_potential = df_maln_potential.dropna(subset=['maln_potential'])\n",
    "\n",
    "print(df_maln_risk.shape)\n",
    "print(df_maln_potential.shape)"
   ]
  },
  {
   "cell_type": "code",
   "execution_count": 37,
   "id": "bdd6cff2",
   "metadata": {},
   "outputs": [
    {
     "data": {
      "text/plain": [
       "3296.7000000000003"
      ]
     },
     "execution_count": 37,
     "metadata": {},
     "output_type": "execute_result"
    }
   ],
   "source": [
    "len(df_maln_risk.index) * 0.66"
   ]
  },
  {
   "cell_type": "code",
   "execution_count": 38,
   "id": "a52ab1f6",
   "metadata": {},
   "outputs": [
    {
     "data": {
      "text/plain": [
       "3330.0"
      ]
     },
     "execution_count": 38,
     "metadata": {},
     "output_type": "execute_result"
    }
   ],
   "source": [
    "len(df_maln_risk.index) / 1.5"
   ]
  },
  {
   "cell_type": "code",
   "execution_count": 40,
   "id": "b99c03e1",
   "metadata": {},
   "outputs": [],
   "source": [
    "# Drop a column if more than 2/3 of the data is N/A \n",
    "\n",
    "thr_maln_risk = len(df_maln_risk.index) / 1.5\n",
    "thr_maln_pot = len(df_maln_potential.index) / 1.5\n",
    "\n",
    "df_maln_risk = df_maln_risk.dropna(thresh=thr_maln_risk, axis=1)\n",
    "df_maln_potential = df_maln_potential.dropna(thresh=thr_maln_pot, axis=1)"
   ]
  },
  {
   "cell_type": "code",
   "execution_count": 41,
   "id": "5bb1c82e",
   "metadata": {
    "scrolled": true
   },
   "outputs": [
    {
     "name": "stdout",
     "output_type": "stream",
     "text": [
      "(4995, 32)\n",
      "(5116, 32)\n"
     ]
    }
   ],
   "source": [
    "print(df_maln_risk.shape)\n",
    "print(df_maln_potential.shape)"
   ]
  },
  {
   "cell_type": "code",
   "execution_count": 42,
   "id": "619fa532",
   "metadata": {},
   "outputs": [
    {
     "name": "stdout",
     "output_type": "stream",
     "text": [
      "(2752, 32)\n",
      "(2767, 32)\n"
     ]
    }
   ],
   "source": [
    "# Drop rows which containt at least one N/A\n",
    "\n",
    "df_maln_risk = df_maln_risk.dropna()\n",
    "df_maln_potential = df_maln_potential.dropna()\n",
    "\n",
    "print(df_maln_risk.shape)\n",
    "print(df_maln_potential.shape)"
   ]
  },
  {
   "cell_type": "code",
   "execution_count": 43,
   "id": "8a3f2d86",
   "metadata": {
    "scrolled": true
   },
   "outputs": [
    {
     "name": "stdout",
     "output_type": "stream",
     "text": [
      "0\n",
      "0\n"
     ]
    }
   ],
   "source": [
    "# Self-check\n",
    "\n",
    "print(df_maln_risk.isnull().sum().sum())\n",
    "print(df_maln_potential.isnull().sum().sum())"
   ]
  },
  {
   "cell_type": "markdown",
   "id": "cc2d33f7",
   "metadata": {},
   "source": [
    "- Now we have cleaned maln risk dataset without na values.\n",
    "- We dropped many rows (about a half), but we still have a lot of data."
   ]
  },
  {
   "cell_type": "code",
   "execution_count": 44,
   "id": "185ae933",
   "metadata": {},
   "outputs": [],
   "source": [
    "def clean_and_convert(series):\n",
    "    # Remove unwanted characters\n",
    "    series = series.str.replace(',', '.')\n",
    "    # Convert to float data types\n",
    "    series = series.astype('float64')\n",
    "    return series"
   ]
  },
  {
   "cell_type": "code",
   "execution_count": 45,
   "id": "a3d46ea5",
   "metadata": {
    "scrolled": true
   },
   "outputs": [
    {
     "data": {
      "text/plain": [
       "low_PA                 float64\n",
       "hosp_pastyr            float64\n",
       "sig_hlth_decln         float64\n",
       "func_diffhigh          float64\n",
       "low_edu                float64\n",
       "age_cat                  int64\n",
       "mmorb_q3                 int64\n",
       "memory_prob            float64\n",
       "mobility_lim           float64\n",
       "imp_vision             float64\n",
       "hlth_insur             float64\n",
       "HEI2015_TOTAL_SCORE     object\n",
       "poverty_level          float64\n",
       "marital_stat           float64\n",
       "poor_oralhlth          float64\n",
       "oral_pain              float64\n",
       "stroke                 float64\n",
       "cancer                 float64\n",
       "restrict_diet          float64\n",
       "poor_appetite          float64\n",
       "diff_shopping          float64\n",
       "diff_mealprep          float64\n",
       "diff_eating            float64\n",
       "FSDAD                  float64\n",
       "vomit_past30           float64\n",
       "PROTDEN                 object\n",
       "maln_risk              float64\n",
       "RIAGENDR                 int64\n",
       "RXDCOUNT               float64\n",
       "MHpro_pastyr           float64\n",
       "MH_Depressed           float64\n",
       "MH_lossofinterest      float64\n",
       "dtype: object"
      ]
     },
     "execution_count": 45,
     "metadata": {},
     "output_type": "execute_result"
    }
   ],
   "source": [
    "df_maln_risk.dtypes"
   ]
  },
  {
   "cell_type": "code",
   "execution_count": 46,
   "id": "5decc785",
   "metadata": {},
   "outputs": [],
   "source": [
    "#df_maln_risk['BMXBMI'] = clean_and_convert(df_maln_risk['BMXBMI'])\n",
    "df_maln_risk['PROTDEN'] = clean_and_convert(df_maln_risk['PROTDEN'])\n",
    "df_maln_risk['HEI2015_TOTAL_SCORE'] = clean_and_convert(df_maln_risk['HEI2015_TOTAL_SCORE'])"
   ]
  },
  {
   "cell_type": "code",
   "execution_count": 47,
   "id": "ad925a99",
   "metadata": {},
   "outputs": [
    {
     "data": {
      "text/plain": [
       "HEI2015_TOTAL_SCORE    object\n",
       "PROTDEN                object\n",
       "dtype: object"
      ]
     },
     "execution_count": 47,
     "metadata": {},
     "output_type": "execute_result"
    }
   ],
   "source": [
    "df_maln_potential.dtypes[df_maln_potential.dtypes == 'object']"
   ]
  },
  {
   "cell_type": "code",
   "execution_count": 48,
   "id": "64d36e0b",
   "metadata": {},
   "outputs": [],
   "source": [
    "#df_maln_potential['BMXBMI'] = clean_and_convert(df_maln_potential['BMXBMI'])\n",
    "df_maln_potential['PROTDEN'] = clean_and_convert(df_maln_potential['PROTDEN'])\n",
    "df_maln_potential['HEI2015_TOTAL_SCORE'] = clean_and_convert(df_maln_potential['HEI2015_TOTAL_SCORE'])"
   ]
  },
  {
   "cell_type": "code",
   "execution_count": 49,
   "id": "abd97320",
   "metadata": {},
   "outputs": [
    {
     "name": "stdout",
     "output_type": "stream",
     "text": [
      "Series([], dtype: object)\n",
      "Series([], dtype: object)\n"
     ]
    }
   ],
   "source": [
    "# Self-check\n",
    "\n",
    "print(df_maln_potential.dtypes[df_maln_potential.dtypes == 'object'])\n",
    "print(df_maln_risk.dtypes[df_maln_risk.dtypes == 'object'])"
   ]
  },
  {
   "cell_type": "code",
   "execution_count": 50,
   "id": "c9287c5c",
   "metadata": {
    "scrolled": true
   },
   "outputs": [
    {
     "data": {
      "text/html": [
       "<div>\n",
       "<style scoped>\n",
       "    .dataframe tbody tr th:only-of-type {\n",
       "        vertical-align: middle;\n",
       "    }\n",
       "\n",
       "    .dataframe tbody tr th {\n",
       "        vertical-align: top;\n",
       "    }\n",
       "\n",
       "    .dataframe thead th {\n",
       "        text-align: right;\n",
       "    }\n",
       "</style>\n",
       "<table border=\"1\" class=\"dataframe\">\n",
       "  <thead>\n",
       "    <tr style=\"text-align: right;\">\n",
       "      <th></th>\n",
       "      <th>low_PA</th>\n",
       "      <th>hosp_pastyr</th>\n",
       "      <th>sig_hlth_decln</th>\n",
       "      <th>func_diffhigh</th>\n",
       "      <th>low_edu</th>\n",
       "      <th>age_cat</th>\n",
       "      <th>mmorb_q3</th>\n",
       "      <th>memory_prob</th>\n",
       "      <th>mobility_lim</th>\n",
       "      <th>imp_vision</th>\n",
       "      <th>...</th>\n",
       "      <th>diff_eating</th>\n",
       "      <th>FSDAD</th>\n",
       "      <th>vomit_past30</th>\n",
       "      <th>PROTDEN</th>\n",
       "      <th>maln_risk</th>\n",
       "      <th>RIAGENDR</th>\n",
       "      <th>RXDCOUNT</th>\n",
       "      <th>MHpro_pastyr</th>\n",
       "      <th>MH_Depressed</th>\n",
       "      <th>MH_lossofinterest</th>\n",
       "    </tr>\n",
       "  </thead>\n",
       "  <tbody>\n",
       "    <tr>\n",
       "      <th>1250</th>\n",
       "      <td>1.0</td>\n",
       "      <td>0.0</td>\n",
       "      <td>0.0</td>\n",
       "      <td>0.0</td>\n",
       "      <td>1.0</td>\n",
       "      <td>1</td>\n",
       "      <td>1</td>\n",
       "      <td>0.0</td>\n",
       "      <td>1.0</td>\n",
       "      <td>0.0</td>\n",
       "      <td>...</td>\n",
       "      <td>0.0</td>\n",
       "      <td>1.0</td>\n",
       "      <td>0.0</td>\n",
       "      <td>4.246933</td>\n",
       "      <td>0.0</td>\n",
       "      <td>1</td>\n",
       "      <td>2.0</td>\n",
       "      <td>0.0</td>\n",
       "      <td>0.0</td>\n",
       "      <td>1.0</td>\n",
       "    </tr>\n",
       "    <tr>\n",
       "      <th>1251</th>\n",
       "      <td>0.0</td>\n",
       "      <td>0.0</td>\n",
       "      <td>0.0</td>\n",
       "      <td>0.0</td>\n",
       "      <td>0.0</td>\n",
       "      <td>2</td>\n",
       "      <td>1</td>\n",
       "      <td>0.0</td>\n",
       "      <td>1.0</td>\n",
       "      <td>0.0</td>\n",
       "      <td>...</td>\n",
       "      <td>0.0</td>\n",
       "      <td>1.0</td>\n",
       "      <td>0.0</td>\n",
       "      <td>0.869919</td>\n",
       "      <td>0.0</td>\n",
       "      <td>1</td>\n",
       "      <td>5.0</td>\n",
       "      <td>0.0</td>\n",
       "      <td>0.0</td>\n",
       "      <td>0.0</td>\n",
       "    </tr>\n",
       "    <tr>\n",
       "      <th>1252</th>\n",
       "      <td>0.0</td>\n",
       "      <td>0.0</td>\n",
       "      <td>1.0</td>\n",
       "      <td>1.0</td>\n",
       "      <td>0.0</td>\n",
       "      <td>2</td>\n",
       "      <td>0</td>\n",
       "      <td>0.0</td>\n",
       "      <td>1.0</td>\n",
       "      <td>0.0</td>\n",
       "      <td>...</td>\n",
       "      <td>1.0</td>\n",
       "      <td>1.0</td>\n",
       "      <td>0.0</td>\n",
       "      <td>0.000000</td>\n",
       "      <td>2.0</td>\n",
       "      <td>2</td>\n",
       "      <td>4.0</td>\n",
       "      <td>0.0</td>\n",
       "      <td>1.0</td>\n",
       "      <td>1.0</td>\n",
       "    </tr>\n",
       "    <tr>\n",
       "      <th>1253</th>\n",
       "      <td>0.0</td>\n",
       "      <td>0.0</td>\n",
       "      <td>0.0</td>\n",
       "      <td>0.0</td>\n",
       "      <td>1.0</td>\n",
       "      <td>1</td>\n",
       "      <td>0</td>\n",
       "      <td>0.0</td>\n",
       "      <td>1.0</td>\n",
       "      <td>0.0</td>\n",
       "      <td>...</td>\n",
       "      <td>1.0</td>\n",
       "      <td>1.0</td>\n",
       "      <td>0.0</td>\n",
       "      <td>1.217219</td>\n",
       "      <td>0.0</td>\n",
       "      <td>1</td>\n",
       "      <td>0.0</td>\n",
       "      <td>0.0</td>\n",
       "      <td>1.0</td>\n",
       "      <td>1.0</td>\n",
       "    </tr>\n",
       "    <tr>\n",
       "      <th>1254</th>\n",
       "      <td>0.0</td>\n",
       "      <td>0.0</td>\n",
       "      <td>0.0</td>\n",
       "      <td>0.0</td>\n",
       "      <td>0.0</td>\n",
       "      <td>3</td>\n",
       "      <td>1</td>\n",
       "      <td>0.0</td>\n",
       "      <td>1.0</td>\n",
       "      <td>0.0</td>\n",
       "      <td>...</td>\n",
       "      <td>0.0</td>\n",
       "      <td>1.0</td>\n",
       "      <td>0.0</td>\n",
       "      <td>2.183202</td>\n",
       "      <td>0.0</td>\n",
       "      <td>1</td>\n",
       "      <td>3.0</td>\n",
       "      <td>0.0</td>\n",
       "      <td>1.0</td>\n",
       "      <td>0.0</td>\n",
       "    </tr>\n",
       "  </tbody>\n",
       "</table>\n",
       "<p>5 rows × 32 columns</p>\n",
       "</div>"
      ],
      "text/plain": [
       "      low_PA  hosp_pastyr  sig_hlth_decln  func_diffhigh  low_edu  age_cat  \\\n",
       "1250     1.0          0.0             0.0            0.0      1.0        1   \n",
       "1251     0.0          0.0             0.0            0.0      0.0        2   \n",
       "1252     0.0          0.0             1.0            1.0      0.0        2   \n",
       "1253     0.0          0.0             0.0            0.0      1.0        1   \n",
       "1254     0.0          0.0             0.0            0.0      0.0        3   \n",
       "\n",
       "      mmorb_q3  memory_prob  mobility_lim  imp_vision  ...  diff_eating  \\\n",
       "1250         1          0.0           1.0         0.0  ...          0.0   \n",
       "1251         1          0.0           1.0         0.0  ...          0.0   \n",
       "1252         0          0.0           1.0         0.0  ...          1.0   \n",
       "1253         0          0.0           1.0         0.0  ...          1.0   \n",
       "1254         1          0.0           1.0         0.0  ...          0.0   \n",
       "\n",
       "      FSDAD  vomit_past30   PROTDEN  maln_risk  RIAGENDR  RXDCOUNT  \\\n",
       "1250    1.0           0.0  4.246933        0.0         1       2.0   \n",
       "1251    1.0           0.0  0.869919        0.0         1       5.0   \n",
       "1252    1.0           0.0  0.000000        2.0         2       4.0   \n",
       "1253    1.0           0.0  1.217219        0.0         1       0.0   \n",
       "1254    1.0           0.0  2.183202        0.0         1       3.0   \n",
       "\n",
       "      MHpro_pastyr  MH_Depressed  MH_lossofinterest  \n",
       "1250           0.0           0.0                1.0  \n",
       "1251           0.0           0.0                0.0  \n",
       "1252           0.0           1.0                1.0  \n",
       "1253           0.0           1.0                1.0  \n",
       "1254           0.0           1.0                0.0  \n",
       "\n",
       "[5 rows x 32 columns]"
      ]
     },
     "execution_count": 50,
     "metadata": {},
     "output_type": "execute_result"
    }
   ],
   "source": [
    "df_maln_risk.head()"
   ]
  },
  {
   "cell_type": "markdown",
   "id": "59fd9aec",
   "metadata": {},
   "source": [
    "### Encoding of categorical variables\n",
    "- age_cat\n",
    "- mobility_lim\n",
    "- poverty_level\n",
    "- marital_stat\n",
    "- poor_oralhlth\n",
    "- oral_pain\n",
    "- FSDAD\n",
    "- diff_mealprep\n",
    "- diff_eating"
   ]
  },
  {
   "cell_type": "code",
   "execution_count": 51,
   "id": "d8e8d297",
   "metadata": {},
   "outputs": [],
   "source": [
    "df_maln_risk_ohe = pd.get_dummies(df_maln_risk, columns=['age_cat', 'mobility_lim', 'poverty_level',\n",
    "                            'marital_stat', 'poor_oralhlth', 'oral_pain', 'FSDAD', 'diff_eating'])\n",
    "\n",
    "df_maln_potential_ohe = pd.get_dummies(df_maln_potential, columns=['age_cat', 'mobility_lim', 'poverty_level',\n",
    "                            'marital_stat', 'poor_oralhlth', 'oral_pain', 'FSDAD', 'diff_mealprep', 'diff_eating'])"
   ]
  },
  {
   "cell_type": "code",
   "execution_count": 52,
   "id": "4db47cad",
   "metadata": {},
   "outputs": [
    {
     "name": "stdout",
     "output_type": "stream",
     "text": [
      "(2752, 51)\n",
      "(2767, 53)\n"
     ]
    }
   ],
   "source": [
    "print(df_maln_risk_ohe.shape)\n",
    "print(df_maln_potential_ohe.shape)"
   ]
  },
  {
   "cell_type": "code",
   "execution_count": 53,
   "id": "94e02755",
   "metadata": {},
   "outputs": [],
   "source": [
    "df_maln_risk.to_csv(\"../preprocessed/14a_maln_risk_preprocessed_ohe.csv\", index=False)\n",
    "df_maln_potential.to_csv(\"../preprocessed/14a_maln_potential_preprocessed_ohe.csv\", index=False)"
   ]
  },
  {
   "cell_type": "markdown",
   "id": "655be54f",
   "metadata": {},
   "source": [
    "### Statistical significance\n",
    "- Chi-square for binary/cat features\n",
    "- T-test for cont. features"
   ]
  },
  {
   "cell_type": "code",
   "execution_count": 31,
   "id": "aee9b9b3",
   "metadata": {},
   "outputs": [
    {
     "data": {
      "text/plain": [
       "0.0    1428\n",
       "1.0     452\n",
       "Name: maln_potential, dtype: int64"
      ]
     },
     "execution_count": 31,
     "metadata": {},
     "output_type": "execute_result"
    }
   ],
   "source": [
    "df_maln_potential['maln_potential'].value_counts()"
   ]
  },
  {
   "cell_type": "code",
   "execution_count": 32,
   "id": "0dec3775",
   "metadata": {},
   "outputs": [
    {
     "data": {
      "text/html": [
       "<div>\n",
       "<style scoped>\n",
       "    .dataframe tbody tr th:only-of-type {\n",
       "        vertical-align: middle;\n",
       "    }\n",
       "\n",
       "    .dataframe tbody tr th {\n",
       "        vertical-align: top;\n",
       "    }\n",
       "\n",
       "    .dataframe thead th {\n",
       "        text-align: right;\n",
       "    }\n",
       "</style>\n",
       "<table border=\"1\" class=\"dataframe\">\n",
       "  <thead>\n",
       "    <tr style=\"text-align: right;\">\n",
       "      <th></th>\n",
       "      <th>low_PA</th>\n",
       "      <th>hosp_pastyr</th>\n",
       "      <th>sig_hlth_decln</th>\n",
       "      <th>func_diffhigh</th>\n",
       "      <th>low_edu</th>\n",
       "      <th>age_cat</th>\n",
       "      <th>mmorb_q3</th>\n",
       "      <th>memory_prob</th>\n",
       "      <th>mobility_lim</th>\n",
       "      <th>hlth_insur</th>\n",
       "      <th>...</th>\n",
       "      <th>diff_eating</th>\n",
       "      <th>FSDAD</th>\n",
       "      <th>PROTDEN</th>\n",
       "      <th>maln_potential</th>\n",
       "      <th>RIAGENDR</th>\n",
       "      <th>RXDCOUNT</th>\n",
       "      <th>MHpro_pastyr</th>\n",
       "      <th>MH_Depressed</th>\n",
       "      <th>MH_lossofinterest</th>\n",
       "      <th>CRP_elev</th>\n",
       "    </tr>\n",
       "  </thead>\n",
       "  <tbody>\n",
       "    <tr>\n",
       "      <th>2556</th>\n",
       "      <td>0.0</td>\n",
       "      <td>0.0</td>\n",
       "      <td>0.0</td>\n",
       "      <td>1.0</td>\n",
       "      <td>1.0</td>\n",
       "      <td>3</td>\n",
       "      <td>1</td>\n",
       "      <td>1.0</td>\n",
       "      <td>1.0</td>\n",
       "      <td>1.0</td>\n",
       "      <td>...</td>\n",
       "      <td>0.0</td>\n",
       "      <td>2.0</td>\n",
       "      <td>4.979592</td>\n",
       "      <td>0.0</td>\n",
       "      <td>1</td>\n",
       "      <td>7.0</td>\n",
       "      <td>0.0</td>\n",
       "      <td>0.0</td>\n",
       "      <td>0.0</td>\n",
       "      <td>0.0</td>\n",
       "    </tr>\n",
       "    <tr>\n",
       "      <th>2557</th>\n",
       "      <td>1.0</td>\n",
       "      <td>0.0</td>\n",
       "      <td>0.0</td>\n",
       "      <td>0.0</td>\n",
       "      <td>1.0</td>\n",
       "      <td>2</td>\n",
       "      <td>0</td>\n",
       "      <td>0.0</td>\n",
       "      <td>1.0</td>\n",
       "      <td>0.0</td>\n",
       "      <td>...</td>\n",
       "      <td>0.0</td>\n",
       "      <td>1.0</td>\n",
       "      <td>4.702593</td>\n",
       "      <td>0.0</td>\n",
       "      <td>2</td>\n",
       "      <td>0.0</td>\n",
       "      <td>0.0</td>\n",
       "      <td>0.0</td>\n",
       "      <td>0.0</td>\n",
       "      <td>0.0</td>\n",
       "    </tr>\n",
       "    <tr>\n",
       "      <th>2558</th>\n",
       "      <td>0.0</td>\n",
       "      <td>0.0</td>\n",
       "      <td>0.0</td>\n",
       "      <td>0.0</td>\n",
       "      <td>0.0</td>\n",
       "      <td>1</td>\n",
       "      <td>0</td>\n",
       "      <td>0.0</td>\n",
       "      <td>1.0</td>\n",
       "      <td>1.0</td>\n",
       "      <td>...</td>\n",
       "      <td>0.0</td>\n",
       "      <td>1.0</td>\n",
       "      <td>2.016575</td>\n",
       "      <td>0.0</td>\n",
       "      <td>2</td>\n",
       "      <td>3.0</td>\n",
       "      <td>0.0</td>\n",
       "      <td>0.0</td>\n",
       "      <td>1.0</td>\n",
       "      <td>0.0</td>\n",
       "    </tr>\n",
       "    <tr>\n",
       "      <th>2559</th>\n",
       "      <td>0.0</td>\n",
       "      <td>0.0</td>\n",
       "      <td>0.0</td>\n",
       "      <td>1.0</td>\n",
       "      <td>0.0</td>\n",
       "      <td>1</td>\n",
       "      <td>0</td>\n",
       "      <td>0.0</td>\n",
       "      <td>1.0</td>\n",
       "      <td>1.0</td>\n",
       "      <td>...</td>\n",
       "      <td>0.0</td>\n",
       "      <td>4.0</td>\n",
       "      <td>2.948183</td>\n",
       "      <td>0.0</td>\n",
       "      <td>1</td>\n",
       "      <td>5.0</td>\n",
       "      <td>0.0</td>\n",
       "      <td>0.0</td>\n",
       "      <td>1.0</td>\n",
       "      <td>0.0</td>\n",
       "    </tr>\n",
       "    <tr>\n",
       "      <th>2561</th>\n",
       "      <td>1.0</td>\n",
       "      <td>0.0</td>\n",
       "      <td>0.0</td>\n",
       "      <td>0.0</td>\n",
       "      <td>1.0</td>\n",
       "      <td>4</td>\n",
       "      <td>0</td>\n",
       "      <td>0.0</td>\n",
       "      <td>1.0</td>\n",
       "      <td>1.0</td>\n",
       "      <td>...</td>\n",
       "      <td>0.0</td>\n",
       "      <td>1.0</td>\n",
       "      <td>1.682390</td>\n",
       "      <td>1.0</td>\n",
       "      <td>2</td>\n",
       "      <td>7.0</td>\n",
       "      <td>0.0</td>\n",
       "      <td>1.0</td>\n",
       "      <td>1.0</td>\n",
       "      <td>0.0</td>\n",
       "    </tr>\n",
       "  </tbody>\n",
       "</table>\n",
       "<p>5 rows × 30 columns</p>\n",
       "</div>"
      ],
      "text/plain": [
       "      low_PA  hosp_pastyr  sig_hlth_decln  func_diffhigh  low_edu  age_cat  \\\n",
       "2556     0.0          0.0             0.0            1.0      1.0        3   \n",
       "2557     1.0          0.0             0.0            0.0      1.0        2   \n",
       "2558     0.0          0.0             0.0            0.0      0.0        1   \n",
       "2559     0.0          0.0             0.0            1.0      0.0        1   \n",
       "2561     1.0          0.0             0.0            0.0      1.0        4   \n",
       "\n",
       "      mmorb_q3  memory_prob  mobility_lim  hlth_insur  ...  diff_eating  \\\n",
       "2556         1          1.0           1.0         1.0  ...          0.0   \n",
       "2557         0          0.0           1.0         0.0  ...          0.0   \n",
       "2558         0          0.0           1.0         1.0  ...          0.0   \n",
       "2559         0          0.0           1.0         1.0  ...          0.0   \n",
       "2561         0          0.0           1.0         1.0  ...          0.0   \n",
       "\n",
       "      FSDAD   PROTDEN  maln_potential  RIAGENDR  RXDCOUNT  MHpro_pastyr  \\\n",
       "2556    2.0  4.979592             0.0         1       7.0           0.0   \n",
       "2557    1.0  4.702593             0.0         2       0.0           0.0   \n",
       "2558    1.0  2.016575             0.0         2       3.0           0.0   \n",
       "2559    4.0  2.948183             0.0         1       5.0           0.0   \n",
       "2561    1.0  1.682390             1.0         2       7.0           0.0   \n",
       "\n",
       "      MH_Depressed  MH_lossofinterest  CRP_elev  \n",
       "2556           0.0                0.0       0.0  \n",
       "2557           0.0                0.0       0.0  \n",
       "2558           0.0                1.0       0.0  \n",
       "2559           0.0                1.0       0.0  \n",
       "2561           1.0                1.0       0.0  \n",
       "\n",
       "[5 rows x 30 columns]"
      ]
     },
     "execution_count": 32,
     "metadata": {},
     "output_type": "execute_result"
    }
   ],
   "source": [
    "df_maln_potential.head()"
   ]
  },
  {
   "cell_type": "code",
   "execution_count": 33,
   "id": "0985a825",
   "metadata": {},
   "outputs": [],
   "source": [
    "# Separate the features and the target variable\n",
    "X = df_maln_potential.drop('maln_potential', axis=1)\n",
    "y = df_maln_potential['maln_potential']\n",
    "\n",
    "# Lists to store p-values\n",
    "p_values_chi2 = {}\n",
    "p_values_ttest = {}"
   ]
  },
  {
   "cell_type": "code",
   "execution_count": 34,
   "id": "7c66f7c6",
   "metadata": {
    "scrolled": true
   },
   "outputs": [
    {
     "data": {
      "text/plain": [
       "Index(['low_PA', 'hosp_pastyr', 'sig_hlth_decln', 'func_diffhigh', 'low_edu',\n",
       "       'age_cat', 'mmorb_q3', 'memory_prob', 'mobility_lim', 'hlth_insur',\n",
       "       'HEI2015_TOTAL_SCORE', 'poverty_level', 'marital_stat', 'poor_oralhlth',\n",
       "       'oral_pain', 'stroke', 'cancer', 'restrict_diet', 'poor_appetite',\n",
       "       'diff_mealprep', 'diff_eating', 'FSDAD', 'PROTDEN', 'maln_potential',\n",
       "       'RIAGENDR', 'RXDCOUNT', 'MHpro_pastyr', 'MH_Depressed',\n",
       "       'MH_lossofinterest', 'CRP_elev'],\n",
       "      dtype='object')"
      ]
     },
     "execution_count": 34,
     "metadata": {},
     "output_type": "execute_result"
    }
   ],
   "source": [
    "df_maln_potential.columns"
   ]
  },
  {
   "cell_type": "code",
   "execution_count": 40,
   "id": "f4c0c146",
   "metadata": {},
   "outputs": [
    {
     "data": {
      "text/plain": [
       "30"
      ]
     },
     "execution_count": 40,
     "metadata": {},
     "output_type": "execute_result"
    }
   ],
   "source": [
    "len(df_maln_potential.columns)"
   ]
  },
  {
   "cell_type": "code",
   "execution_count": 45,
   "id": "ab4d104b",
   "metadata": {
    "scrolled": true
   },
   "outputs": [
    {
     "data": {
      "text/plain": [
       "29"
      ]
     },
     "execution_count": 45,
     "metadata": {},
     "output_type": "execute_result"
    }
   ],
   "source": [
    "binary_vars = ['hosp_pastyr', 'sig_hlth_decln', 'func_diffhigh', 'low_edu', \n",
    "               'mmorb_q3', 'MHpro_pastyr', 'MH_Depressed', 'MH_lossofinterest', \n",
    "               'memory_prob', 'hlth_insur', 'stroke', 'cancer', 'restrict_diet',\n",
    "               'CRP_elev', 'poor_appetite', 'low_PA', 'RIAGENDR'] \n",
    "cat_vars = ['age_cat', 'mobility_lim', 'poverty_level', 'marital_stat', 'poor_oralhlth', \n",
    "            'oral_pain', 'diff_mealprep', 'diff_eating', 'FSDAD']\n",
    "cont_vars = ['RXDCOUNT', 'HEI2015_TOTAL_SCORE', 'PROTDEN']\n",
    "\n",
    "len(binary_vars) + len(cat_vars) + len(cont_vars)"
   ]
  },
  {
   "cell_type": "code",
   "execution_count": 47,
   "id": "da89a485",
   "metadata": {},
   "outputs": [],
   "source": [
    "from scipy.stats import chi2_contingency, ttest_ind"
   ]
  },
  {
   "cell_type": "code",
   "execution_count": 48,
   "id": "16c3fdbe",
   "metadata": {},
   "outputs": [],
   "source": [
    "# Perform Chi-Square test for binary and categorical variables\n",
    "for column in binary_vars+cat_vars:\n",
    "    contingency_table = pd.crosstab(X[column], y)\n",
    "    _, p, _, _ = chi2_contingency(contingency_table)\n",
    "    p_values_chi2[column] = p"
   ]
  },
  {
   "cell_type": "code",
   "execution_count": 49,
   "id": "ea61abfa",
   "metadata": {},
   "outputs": [
    {
     "name": "stderr",
     "output_type": "stream",
     "text": [
      "/var/folders/jd/3zpnmlfd2232jh4tlx7lspb40000gn/T/ipykernel_64211/2040084702.py:3: UserWarning: Boolean Series key will be reindexed to match DataFrame index.\n",
      "  group0 = X[df['maln_potential'] == 0.0][column]\n",
      "/var/folders/jd/3zpnmlfd2232jh4tlx7lspb40000gn/T/ipykernel_64211/2040084702.py:4: UserWarning: Boolean Series key will be reindexed to match DataFrame index.\n",
      "  group1 = X[df['maln_potential'] == 1.0][column]\n"
     ]
    }
   ],
   "source": [
    "# Perform T-Test for continuous variables\n",
    "for column in cont_vars:\n",
    "    group0 = X[df['maln_potential'] == 0.0][column]\n",
    "    group1 = X[df['maln_potential'] == 1.0][column]\n",
    "    _, p = ttest_ind(group0, group1)\n",
    "    p_values_ttest[column] = p"
   ]
  },
  {
   "cell_type": "code",
   "execution_count": 50,
   "id": "19c3bf79",
   "metadata": {
    "scrolled": true
   },
   "outputs": [
    {
     "name": "stdout",
     "output_type": "stream",
     "text": [
      "                          p_value\n",
      "age_cat              2.482524e-10\n",
      "low_PA               1.296916e-05\n",
      "hosp_pastyr          3.522224e-05\n",
      "restrict_diet        7.063709e-05\n",
      "diff_mealprep        3.207281e-04\n",
      "low_edu              3.928958e-04\n",
      "memory_prob          1.021787e-03\n",
      "PROTDEN              1.154935e-03\n",
      "HEI2015_TOTAL_SCORE  1.638554e-03\n",
      "mmorb_q3             1.021889e-02\n",
      "sig_hlth_decln       1.078039e-02\n",
      "func_diffhigh        1.334310e-02\n",
      "poverty_level        1.559057e-02\n",
      "MH_lossofinterest    1.991522e-02\n",
      "stroke               2.185933e-02\n",
      "oral_pain            2.431041e-02\n",
      "poor_oralhlth        2.841262e-02\n",
      "poor_appetite        4.727437e-02\n",
      "diff_eating          5.875857e-02\n",
      "hlth_insur           7.225120e-02\n",
      "mobility_lim         1.408357e-01\n",
      "marital_stat         1.590334e-01\n",
      "MH_Depressed         2.737039e-01\n",
      "CRP_elev             3.460503e-01\n",
      "FSDAD                7.950563e-01\n",
      "cancer               8.027032e-01\n",
      "RXDCOUNT             9.592118e-01\n",
      "RIAGENDR             9.875394e-01\n",
      "MHpro_pastyr         1.000000e+00\n"
     ]
    }
   ],
   "source": [
    "# Combine all p-values into a single DataFrame\n",
    "p_values = {**p_values_chi2, **p_values_ttest}\n",
    "p_values_df = pd.DataFrame.from_dict(p_values, orient='index', columns=['p_value'])\n",
    "p_values_df = p_values_df.sort_values(by='p_value')\n",
    "\n",
    "print(p_values_df)"
   ]
  },
  {
   "cell_type": "code",
   "execution_count": 58,
   "id": "faa7a4ea",
   "metadata": {},
   "outputs": [
    {
     "data": {
      "text/html": [
       "<div>\n",
       "<style scoped>\n",
       "    .dataframe tbody tr th:only-of-type {\n",
       "        vertical-align: middle;\n",
       "    }\n",
       "\n",
       "    .dataframe tbody tr th {\n",
       "        vertical-align: top;\n",
       "    }\n",
       "\n",
       "    .dataframe thead th {\n",
       "        text-align: right;\n",
       "    }\n",
       "</style>\n",
       "<table border=\"1\" class=\"dataframe\">\n",
       "  <thead>\n",
       "    <tr style=\"text-align: right;\">\n",
       "      <th></th>\n",
       "      <th>p_value</th>\n",
       "    </tr>\n",
       "  </thead>\n",
       "  <tbody>\n",
       "    <tr>\n",
       "      <th>age_cat</th>\n",
       "      <td>2.482524e-10</td>\n",
       "    </tr>\n",
       "    <tr>\n",
       "      <th>low_PA</th>\n",
       "      <td>1.296916e-05</td>\n",
       "    </tr>\n",
       "    <tr>\n",
       "      <th>hosp_pastyr</th>\n",
       "      <td>3.522224e-05</td>\n",
       "    </tr>\n",
       "    <tr>\n",
       "      <th>restrict_diet</th>\n",
       "      <td>7.063709e-05</td>\n",
       "    </tr>\n",
       "    <tr>\n",
       "      <th>diff_mealprep</th>\n",
       "      <td>3.207281e-04</td>\n",
       "    </tr>\n",
       "    <tr>\n",
       "      <th>low_edu</th>\n",
       "      <td>3.928958e-04</td>\n",
       "    </tr>\n",
       "    <tr>\n",
       "      <th>memory_prob</th>\n",
       "      <td>1.021787e-03</td>\n",
       "    </tr>\n",
       "    <tr>\n",
       "      <th>PROTDEN</th>\n",
       "      <td>1.154935e-03</td>\n",
       "    </tr>\n",
       "    <tr>\n",
       "      <th>HEI2015_TOTAL_SCORE</th>\n",
       "      <td>1.638554e-03</td>\n",
       "    </tr>\n",
       "    <tr>\n",
       "      <th>mmorb_q3</th>\n",
       "      <td>1.021889e-02</td>\n",
       "    </tr>\n",
       "    <tr>\n",
       "      <th>sig_hlth_decln</th>\n",
       "      <td>1.078039e-02</td>\n",
       "    </tr>\n",
       "    <tr>\n",
       "      <th>func_diffhigh</th>\n",
       "      <td>1.334310e-02</td>\n",
       "    </tr>\n",
       "    <tr>\n",
       "      <th>poverty_level</th>\n",
       "      <td>1.559057e-02</td>\n",
       "    </tr>\n",
       "    <tr>\n",
       "      <th>MH_lossofinterest</th>\n",
       "      <td>1.991522e-02</td>\n",
       "    </tr>\n",
       "    <tr>\n",
       "      <th>stroke</th>\n",
       "      <td>2.185933e-02</td>\n",
       "    </tr>\n",
       "    <tr>\n",
       "      <th>oral_pain</th>\n",
       "      <td>2.431041e-02</td>\n",
       "    </tr>\n",
       "    <tr>\n",
       "      <th>poor_oralhlth</th>\n",
       "      <td>2.841262e-02</td>\n",
       "    </tr>\n",
       "    <tr>\n",
       "      <th>poor_appetite</th>\n",
       "      <td>4.727437e-02</td>\n",
       "    </tr>\n",
       "    <tr>\n",
       "      <th>diff_eating</th>\n",
       "      <td>NaN</td>\n",
       "    </tr>\n",
       "    <tr>\n",
       "      <th>hlth_insur</th>\n",
       "      <td>NaN</td>\n",
       "    </tr>\n",
       "    <tr>\n",
       "      <th>mobility_lim</th>\n",
       "      <td>NaN</td>\n",
       "    </tr>\n",
       "    <tr>\n",
       "      <th>marital_stat</th>\n",
       "      <td>NaN</td>\n",
       "    </tr>\n",
       "    <tr>\n",
       "      <th>MH_Depressed</th>\n",
       "      <td>NaN</td>\n",
       "    </tr>\n",
       "    <tr>\n",
       "      <th>CRP_elev</th>\n",
       "      <td>NaN</td>\n",
       "    </tr>\n",
       "    <tr>\n",
       "      <th>FSDAD</th>\n",
       "      <td>NaN</td>\n",
       "    </tr>\n",
       "    <tr>\n",
       "      <th>cancer</th>\n",
       "      <td>NaN</td>\n",
       "    </tr>\n",
       "    <tr>\n",
       "      <th>RXDCOUNT</th>\n",
       "      <td>NaN</td>\n",
       "    </tr>\n",
       "    <tr>\n",
       "      <th>RIAGENDR</th>\n",
       "      <td>NaN</td>\n",
       "    </tr>\n",
       "    <tr>\n",
       "      <th>MHpro_pastyr</th>\n",
       "      <td>NaN</td>\n",
       "    </tr>\n",
       "  </tbody>\n",
       "</table>\n",
       "</div>"
      ],
      "text/plain": [
       "                          p_value\n",
       "age_cat              2.482524e-10\n",
       "low_PA               1.296916e-05\n",
       "hosp_pastyr          3.522224e-05\n",
       "restrict_diet        7.063709e-05\n",
       "diff_mealprep        3.207281e-04\n",
       "low_edu              3.928958e-04\n",
       "memory_prob          1.021787e-03\n",
       "PROTDEN              1.154935e-03\n",
       "HEI2015_TOTAL_SCORE  1.638554e-03\n",
       "mmorb_q3             1.021889e-02\n",
       "sig_hlth_decln       1.078039e-02\n",
       "func_diffhigh        1.334310e-02\n",
       "poverty_level        1.559057e-02\n",
       "MH_lossofinterest    1.991522e-02\n",
       "stroke               2.185933e-02\n",
       "oral_pain            2.431041e-02\n",
       "poor_oralhlth        2.841262e-02\n",
       "poor_appetite        4.727437e-02\n",
       "diff_eating                   NaN\n",
       "hlth_insur                    NaN\n",
       "mobility_lim                  NaN\n",
       "marital_stat                  NaN\n",
       "MH_Depressed                  NaN\n",
       "CRP_elev                      NaN\n",
       "FSDAD                         NaN\n",
       "cancer                        NaN\n",
       "RXDCOUNT                      NaN\n",
       "RIAGENDR                      NaN\n",
       "MHpro_pastyr                  NaN"
      ]
     },
     "execution_count": 58,
     "metadata": {},
     "output_type": "execute_result"
    }
   ],
   "source": [
    "p_values_df[p_values_df < 0.05]"
   ]
  },
  {
   "cell_type": "code",
   "execution_count": 54,
   "id": "f9745df6",
   "metadata": {},
   "outputs": [],
   "source": [
    "import seaborn as sns\n",
    "import matplotlib.pyplot as plt"
   ]
  },
  {
   "cell_type": "code",
   "execution_count": 55,
   "id": "283425a4",
   "metadata": {},
   "outputs": [
    {
     "data": {
      "image/png": "[encoded data removed]",
      "text/plain": [
       "<Figure size 1000x600 with 1 Axes>"
      ]
     },
     "metadata": {},
     "output_type": "display_data"
    },
    {
     "data": {
      "image/png": "[encoded data removed]",
      "text/plain": [
       "<Figure size 1000x600 with 1 Axes>"
      ]
     },
     "metadata": {},
     "output_type": "display_data"
    },
    {
     "data": {
      "image/png": "[encoded data removed]",
      "text/plain": [
       "<Figure size 1000x600 with 1 Axes>"
      ]
     },
     "metadata": {},
     "output_type": "display_data"
    },
    {
     "data": {
      "image/png": "[encoded data removed]",
      "text/plain": [
       "<Figure size 1000x600 with 1 Axes>"
      ]
     },
     "metadata": {},
     "output_type": "display_data"
    },
    {
     "data": {
      "image/png": "[encoded data removed]",
      "text/plain": [
       "<Figure size 1000x600 with 1 Axes>"
      ]
     },
     "metadata": {},
     "output_type": "display_data"
    }
   ],
   "source": [
    "top_features = p_values_df.head(5).index.tolist()\n",
    "\n",
    "# Plotting the most significant features\n",
    "sns.set(style=\"whitegrid\")\n",
    "\n",
    "for feature in top_features:\n",
    "    plt.figure(figsize=(10, 6))\n",
    "    if feature in binary_vars+cat_vars:\n",
    "        sns.countplot(data=df, x=feature, hue='maln_potential')\n",
    "    else:\n",
    "        sns.boxplot(data=df, x='maln_potential', y=feature)\n",
    "    plt.title(f'Distribution of {feature} by maln_potential')\n",
    "    plt.show()"
   ]
  },
  {
   "cell_type": "code",
   "execution_count": 59,
   "id": "292ad859",
   "metadata": {},
   "outputs": [
    {
     "data": {
      "image/png": "[encoded data removed]",
      "text/plain": [
       "<Figure size 1500x1000 with 6 Axes>"
      ]
     },
     "metadata": {},
     "output_type": "display_data"
    }
   ],
   "source": [
    "top_features = p_values_df.head(6).index.tolist()\n",
    "\n",
    "# Plotting the most significant features in a 3x2 grid\n",
    "sns.set(style=\"whitegrid\")\n",
    "fig, axes = plt.subplots(3, 2, figsize=(15, 10))\n",
    "axes = axes.flatten()\n",
    "\n",
    "for i, feature in enumerate(top_features):\n",
    "    ax = axes[i]\n",
    "    if feature in X.select_dtypes(include=['int64', 'object']).columns:\n",
    "        sns.countplot(data=df, x=feature, hue='maln_potential', ax=ax)\n",
    "    else:\n",
    "        sns.boxplot(data=df, x='maln_potential', y=feature, ax=ax)\n",
    "    ax.set_title(f'Distribution of {feature} by maln_potential')\n",
    "\n",
    "plt.tight_layout()\n",
    "plt.show()"
   ]
  },
  {
   "cell_type": "code",
   "execution_count": null,
   "id": "f7cbf495",
   "metadata": {},
   "outputs": [],
   "source": []
  }
 ],
 "metadata": {
  "kernelspec": {
   "display_name": "ml",
   "language": "python",
   "name": "ml"
  },
  "language_info": {
   "codemirror_mode": {
    "name": "ipython",
    "version": 3
   },
   "file_extension": ".py",
   "mimetype": "text/x-python",
   "name": "python",
   "nbconvert_exporter": "python",
   "pygments_lexer": "ipython3",
   "version": "3.9.7"
  }
 },
 "nbformat": 4,
 "nbformat_minor": 5
}
